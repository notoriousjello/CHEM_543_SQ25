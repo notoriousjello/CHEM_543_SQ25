{
 "cells": [
  {
   "cell_type": "code",
   "execution_count": 26,
   "id": "bca6ee27",
   "metadata": {},
   "outputs": [],
   "source": [
    "import os\n",
    "from util import labeledImage\n",
    "from azureapi import AzureCVObjectDetectionAPI\n",
    "from sklearn.model_selection import train_test_split"
   ]
  },
  {
   "cell_type": "code",
   "execution_count": 28,
   "id": "df4c43fa",
   "metadata": {},
   "outputs": [
    {
     "ename": "ValueError",
     "evalue": "invalid literal for int() with base 10: '241.110'",
     "output_type": "error",
     "traceback": [
      "\u001b[1;31m---------------------------------------------------------------------------\u001b[0m",
      "\u001b[1;31mValueError\u001b[0m                                Traceback (most recent call last)",
      "Cell \u001b[1;32mIn[28], line 12\u001b[0m\n\u001b[0;32m     10\u001b[0m label_path \u001b[38;5;241m=\u001b[39m os\u001b[38;5;241m.\u001b[39mpath\u001b[38;5;241m.\u001b[39mjoin(labels_dir, file\u001b[38;5;241m.\u001b[39msplit(\u001b[38;5;124m'\u001b[39m\u001b[38;5;124m.\u001b[39m\u001b[38;5;124m'\u001b[39m)[\u001b[38;5;241m0\u001b[39m] \u001b[38;5;241m+\u001b[39m \u001b[38;5;124m'\u001b[39m\u001b[38;5;124m.txt\u001b[39m\u001b[38;5;124m'\u001b[39m)\n\u001b[0;32m     11\u001b[0m labeled_images\u001b[38;5;241m.\u001b[39mappend(labeledImage(image_path))\n\u001b[1;32m---> 12\u001b[0m \u001b[43mlabeled_images\u001b[49m\u001b[43m[\u001b[49m\u001b[38;5;241;43m-\u001b[39;49m\u001b[38;5;241;43m1\u001b[39;49m\u001b[43m]\u001b[49m\u001b[38;5;241;43m.\u001b[39;49m\u001b[43madd_labels_from_file\u001b[49m\u001b[43m(\u001b[49m\u001b[43mtag\u001b[49m\u001b[43m,\u001b[49m\u001b[43m \u001b[49m\u001b[43mlabel_path\u001b[49m\u001b[43m)\u001b[49m\n",
      "File \u001b[1;32mc:\\Users\\final\\Documents\\CHEM_543_SQ25\\Mse544-CustomVision\\util.py:88\u001b[0m, in \u001b[0;36mlabeledImage.add_labels_from_file\u001b[1;34m(self, tag, filename)\u001b[0m\n\u001b[0;32m     83\u001b[0m \u001b[38;5;28;01mdef\u001b[39;00m\u001b[38;5;250m \u001b[39m\u001b[38;5;21madd_labels_from_file\u001b[39m(\u001b[38;5;28mself\u001b[39m, tag, filename):\n\u001b[0;32m     84\u001b[0m \u001b[38;5;250m    \u001b[39m\u001b[38;5;124;03m\"\"\"\u001b[39;00m\n\u001b[0;32m     85\u001b[0m \u001b[38;5;124;03m    Add labels form a file\u001b[39;00m\n\u001b[0;32m     86\u001b[0m \n\u001b[0;32m     87\u001b[0m \u001b[38;5;124;03m    \"\"\"\u001b[39;00m\n\u001b[1;32m---> 88\u001b[0m     \u001b[38;5;28mself\u001b[39m\u001b[38;5;241m.\u001b[39madd_labels(tag, \u001b[43mread_measurements\u001b[49m\u001b[43m(\u001b[49m\u001b[43mfilename\u001b[49m\u001b[43m)\u001b[49m) \n\u001b[0;32m     90\u001b[0m     \u001b[38;5;28;01mreturn\u001b[39;00m\n",
      "File \u001b[1;32mc:\\Users\\final\\Documents\\CHEM_543_SQ25\\Mse544-CustomVision\\util.py:26\u001b[0m, in \u001b[0;36mread_measurements\u001b[1;34m(filename)\u001b[0m\n\u001b[0;32m     24\u001b[0m         entries \u001b[38;5;241m=\u001b[39m line\u001b[38;5;241m.\u001b[39msplit()\n\u001b[0;32m     25\u001b[0m         \u001b[38;5;66;03m# Add the data from that specific line into the measurements array\u001b[39;00m\n\u001b[1;32m---> 26\u001b[0m         measurements\u001b[38;5;241m.\u001b[39mappend(\u001b[38;5;28;43mlist\u001b[39;49m\u001b[43m(\u001b[49m\u001b[38;5;28;43mmap\u001b[39;49m\u001b[43m(\u001b[49m\u001b[38;5;28;43mint\u001b[39;49m\u001b[43m,\u001b[49m\u001b[43m \u001b[49m\u001b[43mentries\u001b[49m\u001b[43m[\u001b[49m\u001b[38;5;241;43m1\u001b[39;49m\u001b[43m:\u001b[49m\u001b[43m]\u001b[49m\u001b[43m)\u001b[49m\u001b[43m)\u001b[49m)\n\u001b[0;32m     27\u001b[0m         line \u001b[38;5;241m=\u001b[39m f\u001b[38;5;241m.\u001b[39mreadline()\n\u001b[0;32m     29\u001b[0m \u001b[38;5;28;01mreturn\u001b[39;00m measurements\n",
      "\u001b[1;31mValueError\u001b[0m: invalid literal for int() with base 10: '241.110'"
     ]
    }
   ],
   "source": [
    "molecules_dir = './molecules/'\n",
    "labels_dir = './molecules/labels/'\n",
    "\n",
    "labeled_images = []\n",
    "tag = 'molecule'\n",
    "\n",
    "for file in os.listdir(molecules_dir):\n",
    "    if file.endswith(\".jpeg\"):\n",
    "        image_path = os.path.join(molecules_dir, file)\n",
    "        label_path = os.path.join(labels_dir, file.split('.')[0] + '.txt')\n",
    "        labeled_images.append(labeledImage(image_path))\n",
    "        labeled_images[-1].add_labels_from_file(tag, label_path)"
   ]
  },
  {
   "cell_type": "code",
   "execution_count": null,
   "id": "8e0c4842",
   "metadata": {},
   "outputs": [
    {
     "name": "stdout",
     "output_type": "stream",
     "text": [
      "Labeled image am-2014-02795y_0008.jpeg\n",
      "    location: ./molecules/am-2014-02795y_0008.jpeg\n",
      "    shape: (2678, 6048)\n",
      "    labels:\n",
      "    - molecule: \n",
      "      [0, 0, 1492, 1176]\n",
      "      [1768, 212, 1332, 976]\n",
      "      [4068, 24, 1980, 1256]\n",
      "      [0, 1496, 1504, 1172]\n",
      "      [1788, 1684, 1296, 976]\n",
      "      [4136, 1412, 1912, 1256]\n",
      "\n"
     ]
    }
   ],
   "source": [
    "print(labeled_images[0])"
   ]
  },
  {
   "cell_type": "code",
   "execution_count": null,
   "id": "f5dcd6a5",
   "metadata": {},
   "outputs": [],
   "source": [
    "train_images, test_images = train_test_split(labeled_images, test_size=0.2, random_state=42)"
   ]
  },
  {
   "cell_type": "code",
   "execution_count": null,
   "id": "2da24083",
   "metadata": {},
   "outputs": [],
   "source": [
    "Endpoint    = 'https://westus2.api.cognitive.microsoft.com/'\n",
    "Key         = '516220ca1efc44c6a7801fea32503351'\n",
    "Resource_Id = '/subscriptions/6b86c32f-3e1d-4be7-bbd4-dd16443808b2/resourceGroups/rg-amlclass-notjello/providers/Microsoft.CognitiveServices/accounts/CV_JL'\n",
    "Project_Id  = '0bc70ed6-4dc8-4694-b8a1-bbbe07997cf6'\n",
    "\n",
    "\n",
    "ACVObjectDetector = AzureCVObjectDetectionAPI(Endpoint, Key, Resource_Id, Project_Id)"
   ]
  },
  {
   "cell_type": "code",
   "execution_count": null,
   "id": "84c70dd2",
   "metadata": {},
   "outputs": [
    {
     "name": "stdout",
     "output_type": "stream",
     "text": [
      "Adding images...\n",
      "Adding images: batch  1\n",
      "Image batch upload failed.\n",
      "Image status:  OK\n",
      "Image status:  OK\n",
      "Image status:  OK\n",
      "Image status:  OK\n",
      "Image status:  OK\n",
      "Image status:  OK\n",
      "Image status:  OK\n",
      "Image status:  OK\n",
      "Image status:  OK\n",
      "Image status:  OK\n",
      "Image status:  OK\n",
      "Image status:  OK\n",
      "Image status:  OK\n",
      "Image status:  OK\n",
      "Image status:  OK\n",
      "Image status:  OK\n",
      "Image status:  OK\n",
      "Image status:  OK\n",
      "Image status:  OK\n",
      "Image status:  OK\n",
      "Image status:  OK\n",
      "Image status:  OK\n",
      "Image status:  OK\n",
      "Image status:  OK\n",
      "Image status:  OK\n",
      "Image status:  OK\n",
      "Image status:  OK\n",
      "Image status:  OK\n",
      "Image status:  OK\n",
      "Image status:  OK\n",
      "Image status:  OK\n",
      "Image status:  OK\n",
      "Image status:  OK\n",
      "Image status:  OK\n",
      "Image status:  OK\n",
      "Image status:  OK\n",
      "Image status:  OK\n",
      "Image status:  ErrorInvalidRegion\n",
      "Image status:  OK\n",
      "Image status:  OK\n"
     ]
    }
   ],
   "source": [
    "ACVObjectDetector.upload_training_images(train_images)"
   ]
  },
  {
   "cell_type": "code",
   "execution_count": null,
   "id": "cd54c681",
   "metadata": {},
   "outputs": [
    {
     "name": "stdout",
     "output_type": "stream",
     "text": [
      "cm-2015-01520c_0001.jpeg\n",
      "ma-2012-01312d_0001.jpeg\n",
      "ja-2011-10687r_0014.jpeg\n",
      "ma-2014-00250j_0009.jpeg\n",
      "cm-2015-032569_0005.jpeg\n",
      "ma-2014-01736m_0009.jpeg\n",
      "ja-2011-01131h_0003.jpeg\n",
      "ja-2009-09111p_0004.jpeg\n",
      "ja-2013-04064m_0005.jpeg\n",
      "cm-2015-032569_0007.jpeg\n"
     ]
    }
   ],
   "source": [
    "for image in test_images: print(image.name)"
   ]
  }
 ],
 "metadata": {
  "kernelspec": {
   "display_name": "CHEM543py310",
   "language": "python",
   "name": "python3"
  },
  "language_info": {
   "codemirror_mode": {
    "name": "ipython",
    "version": 3
   },
   "file_extension": ".py",
   "mimetype": "text/x-python",
   "name": "python",
   "nbconvert_exporter": "python",
   "pygments_lexer": "ipython3",
   "version": "3.10.16"
  }
 },
 "nbformat": 4,
 "nbformat_minor": 5
}
