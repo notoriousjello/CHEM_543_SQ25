{
 "cells": [
  {
   "cell_type": "code",
   "execution_count": 49,
   "id": "b949220f",
   "metadata": {},
   "outputs": [],
   "source": [
    "# pip install azure-storage-blob opencv-python pandas pillow torch torchvision scikit-learn matplotlib"
   ]
  },
  {
   "cell_type": "code",
   "execution_count": 50,
   "id": "930864c8",
   "metadata": {},
   "outputs": [],
   "source": [
    "# loads our needed packages\n",
    "import os\n",
    "import torch\n",
    "import pandas as pd\n",
    "import matplotlib.pyplot as plt\n",
    "from PIL import Image, ImageDraw\n",
    "import torchvision.transforms as transforms\n",
    "from torchvision.models import resnet18\n",
    "import numpy as np\n",
    "from sklearn.cluster import KMeans"
   ]
  },
  {
   "cell_type": "code",
   "execution_count": 51,
   "id": "fdaf0841",
   "metadata": {},
   "outputs": [
    {
     "name": "stdout",
     "output_type": "stream",
     "text": [
      "Cropped 743 defect regions.\n"
     ]
    }
   ],
   "source": [
    "# loads our csv that has the merged bounding box data\n",
    "csv_path = 'combined_defects.csv'\n",
    "df = pd.read_csv(csv_path)\n",
    "\n",
    "# sets image folder path\n",
    "image_folder = 'Images'\n",
    "\n",
    "# loads image by image id\n",
    "def load_image(image_id, ext='.png'):\n",
    "    image_path = os.path.join(image_folder, f\"{image_id}{ext}\")\n",
    "    if not os.path.exists(image_path):\n",
    "        raise FileNotFoundError(f\"Image not found: {image_path}\")\n",
    "    return Image.open(image_path).convert('RGB')\n",
    "\n",
    "# crops defect region to that stated in the bounding box\n",
    "def crop_defects(df):\n",
    "    crops = []\n",
    "    for idx, row in df.iterrows():\n",
    "        image_id = row['image_id']\n",
    "        x, y, w, h = int(row['BX']), int(row['BY']), int(row['Width']), int(row['Height'])\n",
    "        \n",
    "        try:\n",
    "            img = load_image(image_id)  # Load the full image\n",
    "            crop = img.crop((x, y, x + w, y + h))  # Crop box: (left, upper, right, lower)\n",
    "            crops.append({\n",
    "                'image_id': image_id,\n",
    "                'bbox': (x, y, w, h),\n",
    "                'crop': crop\n",
    "            })\n",
    "        except Exception as e:\n",
    "            print(f\"Skipping defect at index {idx} in image '{image_id}': {e}\")\n",
    "    \n",
    "    return crops\n",
    "\n",
    "# executes cropping\n",
    "cropped_defects = crop_defects(df)\n",
    "print(f\"Cropped {len(cropped_defects)} defect regions.\")\n",
    "\n",
    "# # save cropped images to disk to double check the crop was correct\n",
    "# output_folder = 'defect_crops'\n",
    "# os.makedirs(output_folder, exist_ok=True)\n",
    "\n",
    "# for i, item in enumerate(cropped_defects):\n",
    "#     filename = f\"{item['image_id']}_defect_{i}.png\"\n",
    "#     path = os.path.join(output_folder, filename)\n",
    "#     item['crop'].save(path)\n"
   ]
  },
  {
   "cell_type": "code",
   "execution_count": 52,
   "id": "ecf0c35d",
   "metadata": {},
   "outputs": [
    {
     "name": "stderr",
     "output_type": "stream",
     "text": [
      "C:\\Users\\final\\AppData\\Roaming\\Python\\Python39\\site-packages\\torchvision\\models\\_utils.py:208: UserWarning: The parameter 'pretrained' is deprecated since 0.13 and may be removed in the future, please use 'weights' instead.\n",
      "  warnings.warn(\n",
      "C:\\Users\\final\\AppData\\Roaming\\Python\\Python39\\site-packages\\torchvision\\models\\_utils.py:223: UserWarning: Arguments other than a weight enum or `None` for 'weights' are deprecated since 0.13 and may be removed in the future. The current behavior is equivalent to passing `weights=ResNet18_Weights.IMAGENET1K_V1`. You can also use `weights=ResNet18_Weights.DEFAULT` to get the most up-to-date weights.\n",
      "  warnings.warn(msg)\n"
     ]
    },
    {
     "name": "stdout",
     "output_type": "stream",
     "text": [
      "Extracted embeddings for 743 defects.\n"
     ]
    }
   ],
   "source": [
    "# model set up pre-trained ResNet18, remove final classification layer\n",
    "model = resnet18(pretrained=True)\n",
    "model = torch.nn.Sequential(*list(model.children())[:-1])  # remove last fc layer\n",
    "model.eval()  # inference mode\n",
    "\n",
    "# image pre processing\n",
    "preprocess = transforms.Compose([\n",
    "    transforms.Resize((224, 224)),\n",
    "    transforms.ToTensor(),\n",
    "    transforms.Normalize(mean=[0.485, 0.456, 0.406],  # ImageNet means\n",
    "                         std=[0.229, 0.224, 0.225])    # ImageNet stds\n",
    "])\n",
    "\n",
    "# gets embedding from crop\n",
    "def get_embedding(crop_img):\n",
    "    input_tensor = preprocess(crop_img).unsqueeze(0)  # add batch dim\n",
    "    with torch.no_grad():\n",
    "        features = model(input_tensor)\n",
    "    features = features.squeeze().numpy()  # shape (512,)\n",
    "    return features\n",
    "\n",
    "# applies to all cropped regions\n",
    "features_list = []\n",
    "for item in cropped_defects:\n",
    "    crop_img = item['crop']\n",
    "    emb = get_embedding(crop_img)\n",
    "    features_list.append({\n",
    "        'image_id': item['image_id'],\n",
    "        'bbox': item['bbox'],\n",
    "        'embedding': emb\n",
    "    })\n",
    "\n",
    "print(f\"Extracted embeddings for {len(features_list)} defects.\")\n",
    "\n",
    "X = np.array([item['embedding'] for item in features_list])\n"
   ]
  },
  {
   "cell_type": "code",
   "execution_count": 68,
   "id": "f767de1b",
   "metadata": {},
   "outputs": [
    {
     "name": "stdout",
     "output_type": "stream",
     "text": [
      "Defect counts per cluster:\n",
      "Counter({np.int32(0): 489, np.int32(1): 254})\n"
     ]
    }
   ],
   "source": [
    "# set number of clusters for KMeans\n",
    "n_clusters = 2\n",
    "\n",
    "# initialize and fit KMeans\n",
    "kmeans = KMeans(n_clusters = n_clusters, \n",
    "                random_state = 42)\n",
    "kmeans.fit(X)\n",
    "\n",
    "# gets cluster labels for each defect\n",
    "labels = kmeans.labels_\n",
    "\n",
    "# adds cluster labels back to features_list\n",
    "for i, item in enumerate(features_list):\n",
    "    item['cluster'] = labels[i]\n",
    "\n",
    "# prints how many defects per cluster\n",
    "from collections import Counter\n",
    "print(\"Defect counts per cluster:\")\n",
    "print(Counter(labels))"
   ]
  },
  {
   "cell_type": "code",
   "execution_count": 54,
   "id": "2d87d822",
   "metadata": {},
   "outputs": [],
   "source": [
    "# # saves data to a new csv\n",
    "# output_rows = []\n",
    "# for item in features_list:\n",
    "#     image_id = item['image_id']\n",
    "#     bx, by, w, h = item['bbox']\n",
    "#     cluster = item['cluster']\n",
    "#     output_rows.append({\n",
    "#         'image_id': image_id,\n",
    "#         'BX': bx,\n",
    "#         'BY': by,\n",
    "#         'Width': w,\n",
    "#         'Height': h,\n",
    "#         'Cluster': cluster\n",
    "#     })\n",
    "\n",
    "# df_out = pd.DataFrame(output_rows)\n",
    "# df_out.to_csv('defects_clustered.csv', index=False)\n",
    "# print(\"Saved clustering results to defects_clustered.csv\")"
   ]
  },
  {
   "cell_type": "code",
   "execution_count": 69,
   "id": "eaf1f465",
   "metadata": {},
   "outputs": [
    {
     "data": {
      "text/plain": [
       "Text(0, 0.5, 'Frequency')"
      ]
     },
     "execution_count": 69,
     "metadata": {},
     "output_type": "execute_result"
    },
    {
     "data": {
      "image/png": "[encoded data removed]",
      "text/plain": [
       "<Figure size 640x480 with 1 Axes>"
      ]
     },
     "metadata": {},
     "output_type": "display_data"
    }
   ],
   "source": [
    "# converts features_list into a dataframe for plotting\n",
    "df = pd.DataFrame(features_list)\n",
    "df = df.drop(df.columns[1:3],\n",
    "             axis = 1)\n",
    "\n",
    "\n",
    "graph = df['cluster'].value_counts().sort_index()\n",
    "graph.plot(kind = 'bar')\n",
    "plt.xlabel(\"Cluster\")\n",
    "plt.ylabel(\"Frequency\")"
   ]
  },
  {
   "cell_type": "code",
   "execution_count": 70,
   "id": "86a61469",
   "metadata": {},
   "outputs": [
    {
     "name": "stdout",
     "output_type": "stream",
     "text": [
      "Saved clustered image: clustered_images_c2\\1_clustered.png\n",
      "Saved clustered image: clustered_images_c2\\10_clustered.png\n",
      "Saved clustered image: clustered_images_c2\\11_clustered.png\n",
      "Saved clustered image: clustered_images_c2\\12_clustered.png\n",
      "Saved clustered image: clustered_images_c2\\13_clustered.png\n",
      "Saved clustered image: clustered_images_c2\\14_clustered.png\n",
      "Saved clustered image: clustered_images_c2\\15_clustered.png\n",
      "Saved clustered image: clustered_images_c2\\16_clustered.png\n",
      "Saved clustered image: clustered_images_c2\\17_clustered.png\n",
      "Saved clustered image: clustered_images_c2\\18_clustered.png\n",
      "Saved clustered image: clustered_images_c2\\19_clustered.png\n",
      "Saved clustered image: clustered_images_c2\\2_clustered.png\n",
      "Saved clustered image: clustered_images_c2\\20_clustered.png\n",
      "Saved clustered image: clustered_images_c2\\21_clustered.png\n",
      "Saved clustered image: clustered_images_c2\\22_clustered.png\n",
      "Saved clustered image: clustered_images_c2\\23_clustered.png\n",
      "Saved clustered image: clustered_images_c2\\24_clustered.png\n",
      "Saved clustered image: clustered_images_c2\\25_clustered.png\n",
      "Saved clustered image: clustered_images_c2\\26_clustered.png\n",
      "Saved clustered image: clustered_images_c2\\27_clustered.png\n",
      "Saved clustered image: clustered_images_c2\\28_clustered.png\n",
      "Saved clustered image: clustered_images_c2\\3_clustered.png\n",
      "Saved clustered image: clustered_images_c2\\4_clustered.png\n",
      "Saved clustered image: clustered_images_c2\\5_clustered.png\n",
      "Saved clustered image: clustered_images_c2\\6_clustered.png\n",
      "Saved clustered image: clustered_images_c2\\7_clustered.png\n",
      "Saved clustered image: clustered_images_c2\\8_clustered.png\n",
      "Saved clustered image: clustered_images_c2\\9_clustered.png\n"
     ]
    }
   ],
   "source": [
    "# replots bounding boxes using new clusters\n",
    "# paths\n",
    "image_folder = 'Images'\n",
    "output_folder = 'clustered_images_c2'\n",
    "os.makedirs(output_folder, exist_ok=True)\n",
    "\n",
    "# cluster colors (sequentially used)\n",
    "cluster_colors = [\n",
    "    'white', 'blue', 'green', 'orange', 'yellow',\n",
    "    'black', 'cyan', 'lime', 'purple', 'gray'\n",
    "]\n",
    "\n",
    "# groups defects by image\n",
    "from collections import defaultdict\n",
    "defects_by_image = defaultdict(list)\n",
    "for item in features_list:\n",
    "    defects_by_image[item['image_id']].append(item)\n",
    "\n",
    "# draws bounding boxes with cluster colors on each image\n",
    "for image_id, defects in defects_by_image.items():\n",
    "    img_path = os.path.join(image_folder, f\"{image_id}.png\")\n",
    "    if not os.path.exists(img_path):\n",
    "        print(f\"Image not found for visualization: {img_path}\")\n",
    "        continue\n",
    "    \n",
    "    img = Image.open(img_path).convert('RGB')\n",
    "    draw = ImageDraw.Draw(img)\n",
    "\n",
    "    for defect in defects:\n",
    "        bx, by, w, h = defect['bbox']\n",
    "        cluster = defect['cluster']\n",
    "        color = cluster_colors[cluster % len(cluster_colors)]\n",
    "        draw.rectangle([bx, by, bx + w, by + h], outline=color, width=3)\n",
    "    \n",
    "    # saves images\n",
    "    out_path = os.path.join(output_folder, f\"{image_id}_clustered.png\")\n",
    "    img.save(out_path)\n",
    "    print(f\"Saved clustered image: {out_path}\")"
   ]
  }
 ],
 "metadata": {
  "kernelspec": {
   "display_name": "yolov5",
   "language": "python",
   "name": "python3"
  },
  "language_info": {
   "codemirror_mode": {
    "name": "ipython",
    "version": 3
   },
   "file_extension": ".py",
   "mimetype": "text/x-python",
   "name": "python",
   "nbconvert_exporter": "python",
   "pygments_lexer": "ipython3",
   "version": "3.9.21"
  }
 },
 "nbformat": 4,
 "nbformat_minor": 5
}
