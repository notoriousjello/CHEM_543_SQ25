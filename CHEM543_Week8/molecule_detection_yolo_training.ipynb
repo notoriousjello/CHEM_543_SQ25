{
 "cells": [
  {
   "cell_type": "code",
   "execution_count": 5,
   "id": "f9d715e5",
   "metadata": {},
   "outputs": [],
   "source": [
    "# %pip install -r yolov5/requirements.txt --user \n",
    "# %pip install scikit-learn scikit-image azureml-core --user"
   ]
  },
  {
   "cell_type": "code",
   "execution_count": 6,
   "id": "aa8799cf",
   "metadata": {},
   "outputs": [],
   "source": [
    "from util import labeledImage, normalize_coordinates, convert_to_yolo_format\n",
    "from sklearn.model_selection import train_test_split\n",
    "import os, shutil, yaml\n"
   ]
  },
  {
   "cell_type": "code",
   "execution_count": 7,
   "id": "4a6c8135",
   "metadata": {},
   "outputs": [],
   "source": [
    "path_to_Mse544_cv = 'C:/Users/final/Documents/CHEM_543_SQ25/CHEM543_Week7'\n",
    "\n",
    "source_images_dir = f'{path_to_Mse544_cv}/molecules/'\n",
    "source_labels_dir = f'{path_to_Mse544_cv}/molecules/labels/'\n",
    "\n",
    "labeled_images = []\n",
    "tag = 'molecule' \n",
    "\n",
    "for file in os.listdir(source_images_dir):\n",
    "    # find all jpeg file and it's ImageJ label\n",
    "    if file.endswith(\".jpeg\"):\n",
    "        image_path = os.path.join(source_images_dir, file)\n",
    "        label_path = os.path.join(source_labels_dir, file.split('.')[0] + '.txt')\n",
    "        labeled_images.append(labeledImage(image_path))\n",
    "        labeled_images[-1].add_labels_from_file(tag, label_path)\n"
   ]
  },
  {
   "cell_type": "code",
   "execution_count": 8,
   "id": "b23126e4",
   "metadata": {},
   "outputs": [
    {
     "data": {
      "text/plain": [
       "(42, 12, 7)"
      ]
     },
     "execution_count": 8,
     "metadata": {},
     "output_type": "execute_result"
    }
   ],
   "source": [
    "train_and_val_set, test_set = train_test_split(labeled_images, test_size=0.1)\n",
    "train_set, val_set = train_test_split(train_and_val_set, test_size=(2/9))\n",
    "\n",
    "len(train_set), len(val_set), len(test_set)"
   ]
  },
  {
   "cell_type": "code",
   "execution_count": 9,
   "id": "01a10202",
   "metadata": {},
   "outputs": [],
   "source": [
    "# Create the molecule_images directory if it doesn't exist\n",
    "output_dir = os.path.join(os.getcwd(),'molecule_images')\n",
    "if not os.path.exists(output_dir): os.mkdir(output_dir)\n",
    "\n",
    "train_dir = os.path.join(output_dir, 'train') \n",
    "val_dir   = os.path.join(output_dir, 'val') \n",
    "test_dir  = os.path.join(output_dir, 'test') \n",
    "\n",
    "# Create the sub-directories\n",
    "for d in [train_dir, val_dir, test_dir]:\n",
    "    if not os.path.exists(d): os.mkdir(d)\n",
    "    \n",
    "    images_sub_dir = os.path.join(d, 'images')\n",
    "    labels_sub_dir = os.path.join(d, 'labels')\n",
    "    \n",
    "    for sub_dir in [images_sub_dir, labels_sub_dir]:\n",
    "        if not os.path.exists(sub_dir): os.mkdir(sub_dir)\n"
   ]
  },
  {
   "cell_type": "code",
   "execution_count": 10,
   "id": "64d5caf3",
   "metadata": {},
   "outputs": [
    {
     "name": "stdout",
     "output_type": "stream",
     "text": [
      "successfully generated labels for image  ma-2014-00250j_0002.jpeg\n",
      "successfully generated labels for image  ma-2013-00355w_0009.jpeg\n",
      "successfully generated labels for image  cm-2015-032569_0005.jpeg\n",
      "successfully generated labels for image  mz-2012-00065t_0005.jpeg\n",
      "successfully generated labels for image  ma-2011-02540j_0003.jpeg\n",
      "successfully generated labels for image  cm-2010-00417z_0001.jpeg\n",
      "successfully generated labels for image  ja-2016-05418c_0001.jpeg\n",
      "successfully generated labels for image  ja-2009-09111p_0004.jpeg\n",
      "successfully generated labels for image  cm-2017-00595k_0001.jpeg\n",
      "successfully generated labels for image  ma-2014-01736m_0007.jpeg\n",
      "successfully generated labels for image  ja-2009-057986_0003.jpeg\n",
      "successfully generated labels for image  cm-2015-032569_0010.jpeg\n",
      "successfully generated labels for image  cm-2015-01520c_0001.jpeg\n",
      "successfully generated labels for image  cm-2015-030982_0001.jpeg\n",
      "successfully generated labels for image  ja-2011-10687r_0014.jpeg\n",
      "successfully generated labels for image  ja-2013-04064m_0005.jpeg\n",
      "successfully generated labels for image  am-2015-087694_0011.jpeg\n",
      "successfully generated labels for image  ja-2011-01131h_0003.jpeg\n",
      "successfully generated labels for image  ja-2011-01131h_0004.jpeg\n",
      "successfully generated labels for image  cm-2015-00481u_0002.jpeg\n",
      "successfully generated labels for image  images_large_jo4c03069_0005.jpeg\n",
      "successfully generated labels for image  ja-2013-06220a_0008.jpeg\n",
      "successfully generated labels for image  ma-2013-00355w_0010.jpeg\n",
      "successfully generated labels for image  cm-2015-032569_0006.jpeg\n",
      "successfully generated labels for image  cm-2015-030982_0002.jpeg\n",
      "successfully generated labels for image  cm-2014-01513n_0001.jpeg\n",
      "successfully generated labels for image  anie202503942-fig-0001-m.jpeg\n",
      "successfully generated labels for image  ja-2009-09111p_0003.jpeg\n",
      "successfully generated labels for image  ma-2014-00250j_0009.jpeg\n",
      "successfully generated labels for image  ma-2012-01312d_0001.jpeg\n",
      "successfully generated labels for image  cm-2015-00481u_0006.jpeg\n",
      "successfully generated labels for image  images_large_jo4c03127_0001.jpeg\n",
      "successfully generated labels for image  ma-2009-02197a_0001.jpeg\n",
      "successfully generated labels for image  ja-2011-10687r_0013.jpeg\n",
      "successfully generated labels for image  am-2014-02795y_0009.jpeg\n",
      "successfully generated labels for image  cm-2015-032569_0007.jpeg\n",
      "successfully generated labels for image  am-2014-02795y_0008.jpeg\n",
      "successfully generated labels for image  ma-2014-00333r_0009.jpeg\n",
      "successfully generated labels for image  cm-2012-017006_0003.jpeg\n",
      "successfully generated labels for image  images_large_jo4c03127_0002.jpeg\n",
      "successfully generated labels for image  images_large_jo4c03091_0001.jpeg\n",
      "successfully generated labels for image  images_large_jo4c03069_0003.jpeg\n",
      "successfully generated labels for image  images_large_jo4c03091_0009.jpeg\n",
      "successfully generated labels for image  cm-2012-011056_0001.jpeg\n",
      "successfully generated labels for image  am-2015-087694_0002.jpeg\n",
      "successfully generated labels for image  ja-2016-05418c_0012.jpeg\n",
      "successfully generated labels for image  cm-2015-01520c_0006.jpeg\n",
      "successfully generated labels for image  images_large_jo4c03091_0004.jpeg\n",
      "successfully generated labels for image  ja-2013-04064m_0001.jpeg\n",
      "successfully generated labels for image  ma-2012-01312d_0004.jpeg\n",
      "successfully generated labels for image  ja-2011-10687r_0003.jpeg\n",
      "successfully generated labels for image  ma-2010-01523a_0003.jpeg\n",
      "successfully generated labels for image  cm-2014-00172w_0011.jpeg\n",
      "successfully generated labels for image  cm-2014-033223_0003.jpeg\n",
      "successfully generated labels for image  ma-2014-01736m_0009.jpeg\n",
      "successfully generated labels for image  images_large_jo4c03091_0006.jpeg\n",
      "successfully generated labels for image  ja-2009-057986_0002.jpeg\n",
      "successfully generated labels for image  ma-2013-00355w_0008.jpeg\n",
      "successfully generated labels for image  cm-2012-017006_0002.jpeg\n",
      "successfully generated labels for image  images_large_jo4c03127_0004.jpeg\n",
      "successfully generated labels for image  images_large_jo4c03069_0004.jpeg\n"
     ]
    }
   ],
   "source": [
    "# make unified yolo tags \n",
    "tags = [tag]\n",
    "\n",
    "# zip the dataset\n",
    "dataset = [(train_dir, train_set),(val_dir, val_set),(test_dir, test_set)]\n",
    "\n",
    "for d, s in dataset:\n",
    "    images_sub_dir = os.path.join(d, 'images')\n",
    "    labels_sub_dir = os.path.join(d, 'labels')\n",
    "\n",
    "    # copy over the images\n",
    "    for img in s:\n",
    "        shutil.copyfile(img.path, os.path.join(images_sub_dir, img.name))\n",
    "    \n",
    "    # covert ImageJ labels to yolo format and save it to labels_sub_dir\n",
    "    convert_to_yolo_format(s, labels_sub_dir, tags)\n"
   ]
  },
  {
   "cell_type": "code",
   "execution_count": 11,
   "id": "c472f35e",
   "metadata": {},
   "outputs": [],
   "source": [
    "# generate yolo yaml file\n",
    "yolo_yaml = os.path.join(output_dir, 'molecule_detection_yolov5.yaml')\n",
    "\n",
    "with open(yolo_yaml, 'w') as yamlout:\n",
    "    yaml.dump(\n",
    "        {'train': train_dir,\n",
    "         'val': val_dir,\n",
    "         'nc': len(tags),\n",
    "         'names': tags},\n",
    "        yamlout,\n",
    "        default_flow_style=None,\n",
    "        sort_keys=False\n",
    "    )\n"
   ]
  },
  {
   "cell_type": "code",
   "execution_count": 12,
   "id": "9e1bfcb3",
   "metadata": {},
   "outputs": [],
   "source": [
    "# %run yolov5/train.py --img 640 --batch 16 --epochs 1 --data ./molecule_images/molecule_detection_yolov5.yaml --weights yolov5s.pt"
   ]
  },
  {
   "cell_type": "code",
   "execution_count": 13,
   "id": "7f900aed",
   "metadata": {},
   "outputs": [],
   "source": [
    "from azureml.core import Workspace, Experiment, Environment, ScriptRunConfig\n",
    "from azureml.core.conda_dependencies import CondaDependencies"
   ]
  },
  {
   "cell_type": "code",
   "execution_count": 14,
   "id": "162fba86",
   "metadata": {},
   "outputs": [],
   "source": [
    "yolov5_env = Environment(name=\"yolov5_env\")\n",
    "\n",
    "# Start from a base docker environments defined by Microsoft\n",
    "yolov5_env.docker.base_image  = \"docker.io/hstirrat/yolov5-env:fixed\"\n",
    "\n",
    "conda_dep = CondaDependencies()\n",
    "# Indicate which version of python needs to be installed\n",
    "conda_dep.add_conda_package('python=3.9')\n",
    "\n",
    "# install all the yolov5 requirement at the image build time\n",
    "with open('./yolov5/requirements.txt', 'r') as f:\n",
    "    line = f.readline()\n",
    "    \n",
    "    while line != '':    \n",
    "        # If the line is a comment or empty, skip it    \n",
    "        if line.startswith('#') or len(line.split()) == 0:\n",
    "            line = f.readline()\n",
    "            continue\n",
    "        # Otherwise add the corresponding package name as a dependency\n",
    "        conda_dep.add_pip_package(line.split()[0])\n",
    "        # Then move on to the next line in the requirements.txt file\n",
    "        line = f.readline()\n",
    "\n",
    "yolov5_env.python.conda_dependencies=conda_dep\n"
   ]
  },
  {
   "cell_type": "code",
   "execution_count": 15,
   "id": "cbb20f7a",
   "metadata": {},
   "outputs": [
    {
     "data": {
      "text/plain": [
       "<bound method Environment.get_image_details of {\n",
       "    \"assetId\": null,\n",
       "    \"databricks\": {\n",
       "        \"eggLibraries\": [],\n",
       "        \"jarLibraries\": [],\n",
       "        \"mavenLibraries\": [],\n",
       "        \"pypiLibraries\": [],\n",
       "        \"rcranLibraries\": []\n",
       "    },\n",
       "    \"docker\": {\n",
       "        \"arguments\": [],\n",
       "        \"baseDockerfile\": null,\n",
       "        \"baseImage\": \"docker.io/hstirrat/yolov5-env:fixed\",\n",
       "        \"baseImageRegistry\": {\n",
       "            \"address\": null,\n",
       "            \"password\": null,\n",
       "            \"registryIdentity\": null,\n",
       "            \"username\": null\n",
       "        },\n",
       "        \"buildContext\": null,\n",
       "        \"enabled\": false,\n",
       "        \"platform\": {\n",
       "            \"architecture\": \"amd64\",\n",
       "            \"os\": \"Linux\"\n",
       "        },\n",
       "        \"sharedVolumes\": true,\n",
       "        \"shmSize\": \"2g\"\n",
       "    },\n",
       "    \"environmentVariables\": {\n",
       "        \"EXAMPLE_ENV_VAR\": \"EXAMPLE_VALUE\"\n",
       "    },\n",
       "    \"inferencingStackVersion\": null,\n",
       "    \"name\": \"yolov5_env\",\n",
       "    \"python\": {\n",
       "        \"baseCondaEnvironment\": null,\n",
       "        \"condaDependencies\": {\n",
       "            \"channels\": [\n",
       "                \"anaconda\",\n",
       "                \"conda-forge\"\n",
       "            ],\n",
       "            \"dependencies\": [\n",
       "                \"python=3.9\",\n",
       "                {\n",
       "                    \"pip\": [\n",
       "                        \"azureml-defaults\",\n",
       "                        \"gitpython>=3.1.30\",\n",
       "                        \"matplotlib>=3.3\",\n",
       "                        \"numpy>=1.23.5\",\n",
       "                        \"opencv-python>=4.1.1\",\n",
       "                        \"pillow>=10.3.0\",\n",
       "                        \"psutil\",\n",
       "                        \"PyYAML>=5.3.1\",\n",
       "                        \"requests>=2.32.2\",\n",
       "                        \"scipy>=1.4.1\",\n",
       "                        \"thop>=0.1.1\",\n",
       "                        \"torch>=1.8.0\",\n",
       "                        \"torchvision>=0.9.0\",\n",
       "                        \"tqdm>=4.66.3\",\n",
       "                        \"ultralytics>=8.2.34\",\n",
       "                        \"pandas>=1.1.4\",\n",
       "                        \"seaborn>=0.11.0\",\n",
       "                        \"setuptools>=70.0.0\"\n",
       "                    ]\n",
       "                }\n",
       "            ],\n",
       "            \"name\": \"project_environment\"\n",
       "        },\n",
       "        \"condaDependenciesFile\": null,\n",
       "        \"interpreterPath\": \"python\",\n",
       "        \"userManagedDependencies\": false\n",
       "    },\n",
       "    \"r\": null,\n",
       "    \"spark\": {\n",
       "        \"packages\": [],\n",
       "        \"precachePackages\": true,\n",
       "        \"repositories\": []\n",
       "    },\n",
       "    \"version\": null\n",
       "}>"
      ]
     },
     "execution_count": 15,
     "metadata": {},
     "output_type": "execute_result"
    }
   ],
   "source": [
    "yolov5_env.get_image_details"
   ]
  },
  {
   "cell_type": "code",
   "execution_count": 16,
   "id": "88687927",
   "metadata": {},
   "outputs": [],
   "source": [
    "subscription_id = '6b86c32f-3e1d-4be7-bbd4-dd16443808b2'\n",
    "resource_group  = 'rg-amlclass-notjello'\n",
    "workspace_name  = 'azureml-notjello'\n",
    "ws = Workspace(subscription_id, resource_group, workspace_name)\n",
    "\n",
    "experiment = Experiment(workspace=ws, name='molecule_detection_yolo_training')\n"
   ]
  },
  {
   "cell_type": "code",
   "execution_count": 17,
   "id": "ca454fdd",
   "metadata": {},
   "outputs": [],
   "source": [
    "# Overall configuration for the script to be run on the compute cluster\n",
    "config = ScriptRunConfig(source_directory='./deploy_yolo_training/',   ## folder in which the script is located\n",
    "                         script='training_on_aml.py',       ## script name\n",
    "                         compute_target='GPU-notjello',\n",
    "                         environment=yolov5_env)   "
   ]
  },
  {
   "cell_type": "code",
   "execution_count": 29,
   "id": "84fe0183",
   "metadata": {},
   "outputs": [
    {
     "name": "stdout",
     "output_type": "stream",
     "text": [
      "C:\\Users\\final\\Documents\\CHEM_543_SQ25\\CHEM543_Week8\n"
     ]
    },
    {
     "data": {
      "text/plain": [
       "'C:\\\\Users\\\\final\\\\Documents\\\\CHEM_543_SQ25\\\\CHEM543_Week8'"
      ]
     },
     "execution_count": 29,
     "metadata": {},
     "output_type": "execute_result"
    }
   ],
   "source": [
    "%cd C:/Users/final/Documents/CHEM_543_SQ25/CHEM543_Week8\n",
    "os.getcwd()"
   ]
  },
  {
   "cell_type": "code",
   "execution_count": 31,
   "id": "3ae702fe",
   "metadata": {},
   "outputs": [
    {
     "name": "stdout",
     "output_type": "stream",
     "text": [
      "https://ml.azure.com/runs/molecule_detection_yolo_training_1748046012_e75fb9d9?wsid=/subscriptions/6b86c32f-3e1d-4be7-bbd4-dd16443808b2/resourcegroups/rg-amlclass-notjello/workspaces/azureml-notjello&tid=f6b6dd5b-f02f-441a-99a0-162ac5060bd2\n"
     ]
    }
   ],
   "source": [
    "run = experiment.submit(config)\n",
    "aml_url = run.get_portal_url()\n",
    "print(aml_url)\n"
   ]
  }
 ],
 "metadata": {
  "kernelspec": {
   "display_name": "yolov5",
   "language": "python",
   "name": "python3"
  },
  "language_info": {
   "codemirror_mode": {
    "name": "ipython",
    "version": 3
   },
   "file_extension": ".py",
   "mimetype": "text/x-python",
   "name": "python",
   "nbconvert_exporter": "python",
   "pygments_lexer": "ipython3",
   "version": "3.9.21"
  }
 },
 "nbformat": 4,
 "nbformat_minor": 5
}
